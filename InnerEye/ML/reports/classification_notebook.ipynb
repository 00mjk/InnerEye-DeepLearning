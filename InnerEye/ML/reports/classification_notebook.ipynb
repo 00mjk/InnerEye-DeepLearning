{
 "cells": [
  {
   "cell_type": "code",
   "execution_count": null,
   "metadata": {
    "tags": [
     "parameters"
    ]
   },
   "outputs": [],
   "source": [
    "# Default input parameter values, which will be overriden by papermill library through Python API.\n",
    "# This cell must carry the tag \"parameters\" in its metadata.\n",
    "innereye_path = \"InnerEye\"\n",
    "metrics_aggregates_file = data_folder + \"metrics_aggregates.csv\"\n",
    "metrics_across_all_runs_file = data_folder + \"MetricsAcrossAllRuns.csv\""
   ]
  },
  {
   "cell_type": "code",
   "execution_count": null,
   "metadata": {},
   "outputs": [],
   "source": [
    "import os\n",
    "import sys\n",
    "from pathlib import Path\n",
    "\n",
    "import matplotlib.pyplot as plt\n",
    "import numpy as np\n",
    "import pandas as pd\n",
    "import seaborn as sn\n",
    "from IPython.display import display, Markdown\n",
    "\n",
    "print(f\"Adding to path: {innereye_path}\"),\n",
    "if str(innereye_path) not in sys.path:\n",
    "    sys.path.append(str(innereye_path))\n",
    "    \n",
    "from InnerEye.ML.utils.metrics_constants import LoggingColumns\n",
    "from InnerEye.ML.reports.notebook_report import print_header\n",
    "from InnerEye.ML.plotting import plot_aggregates_per_epoch, plot_roc_on_axis, plot_precision_recall_on_axis"
   ]
  },
  {
   "cell_type": "code",
   "execution_count": null,
   "metadata": {},
   "outputs": [],
   "source": [
    "df = pd.read_csv(metrics_aggregates_file)"
   ]
  },
  {
   "cell_type": "code",
   "execution_count": null,
   "metadata": {},
   "outputs": [],
   "source": [
    "print_header(\"Metrics on validation set across training epochs\")\n",
    "plot_aggregates_per_epoch(df)"
   ]
  },
  {
   "cell_type": "code",
   "execution_count": null,
   "metadata": {},
   "outputs": [],
   "source": [
    "df2 = pd.read_csv(metrics_across_all_runs_file)\n",
    "last_epoch = max(df2[LoggingColumns.Epoch.value])\n",
    "last_epoch_df = df2.loc[df2[LoggingColumns.Epoch.value] == last_epoch]\n",
    "targets = last_epoch_df[LoggingColumns.Hue.value].unique()"
   ]
  },
  {
   "cell_type": "code",
   "execution_count": null,
   "metadata": {},
   "outputs": [],
   "source": [
    "print_header(\"Metrics on last training epoch broken down by week\")\n",
    "for target in targets:\n",
    "    sub_df = last_epoch_df.loc[last_epoch_df[LoggingColumns.Hue.value]==target]\n",
    "    _, axs = plt.subplots(nrows=1, ncols=2, figsize=(10, 5))\n",
    "    plot_roc_on_axis(sub_df[LoggingColumns.Label.value], sub_df[LoggingColumns.ModelOutput.value], axs[0], title_prefix=target)\n",
    "    plot_precision_recall_on_axis(sub_df[LoggingColumns.Label.value], sub_df[LoggingColumns.ModelOutput.value], axs[1])"
   ]
  }
 ],
 "metadata": {
  "celltoolbar": "Tags",
  "kernelspec": {
   "display_name": "Python 3",
   "language": "python",
   "name": "python3"
  },
  "language_info": {
   "codemirror_mode": {
    "name": "ipython",
    "version": 3
   },
   "file_extension": ".py",
   "mimetype": "text/x-python",
   "name": "python",
   "nbconvert_exporter": "python",
   "pygments_lexer": "ipython3",
   "version": "3.7.3"
  }
 },
 "nbformat": 4,
 "nbformat_minor": 4
}
